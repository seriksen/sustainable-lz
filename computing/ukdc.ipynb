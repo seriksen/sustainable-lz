{
 "cells": [
  {
   "cell_type": "markdown",
   "metadata": {},
   "source": [
    "# UKDC Usage Data\n",
    "\n",
    "Beforehand make sure proxy is valid."
   ]
  },
  {
   "cell_type": "code",
   "execution_count": null,
   "metadata": {},
   "outputs": [],
   "source": [
    "import subprocess\n",
    "from datetime import datetime\n",
    "import matplotlib.pyplot as plt\n",
    "import matplotlib.dates as mdates\n",
    "import tqdm\n",
    "import matplotlib.pyplot as plt\n",
    "import matplotlib.dates as mdates\n",
    "from datetime import datetime\n",
    "import numpy as np\n",
    "import json"
   ]
  },
  {
   "cell_type": "code",
   "execution_count": null,
   "metadata": {},
   "outputs": [],
   "source": [
    "# Get job IDs\n",
    "\n",
    "account_name = \"lz\"\n",
    "\n",
    "command = \"source /cvmfs/dirac.egi.eu/dirac/bashrc_gridpp\"\n",
    "command += f\" && dirac-wms-job-status --JobGroup={account_name}\"\n",
    "result = subprocess.run(command, capture_output=True, text=True, shell=True)"
   ]
  },
  {
   "cell_type": "code",
   "execution_count": null,
   "metadata": {},
   "outputs": [],
   "source": [
    "# extract just the job IDs\n",
    "job_ids = [(j.split(' ')[0]).split('=')[1] for j in result.stdout.split('\\n')[:-1]]"
   ]
  },
  {
   "cell_type": "code",
   "execution_count": null,
   "metadata": {},
   "outputs": [],
   "source": [
    "# Get job parameters\n",
    "\n",
    "command = \"source /cvmfs/dirac.egi.eu/dirac/bashrc_gridpp\"\n",
    "command += f\" && dirac-wms-job-parameters\"\n",
    "for job_id in tqdm.tqdm(job_ids):\n",
    "    command += f\" {job_id}\"\n",
    "result = subprocess.run(command, capture_output=True, text=True, shell=True)"
   ]
  },
  {
   "cell_type": "code",
   "execution_count": null,
   "metadata": {},
   "outputs": [],
   "source": [
    "# Save as running the above takes a while\n",
    "info = result.stdout\n",
    "# Add \"\" to jobID so it is readable by json -> pandas\n",
    "info = result.stdout\n",
    "info = info.replace(\"'\", '\"')\n",
    "info = \"\\n\" + info\n",
    "info = info.replace('\\n{', '\\n{\"')\n",
    "info = info.replace(': {', '\": {')\n",
    "info = info.replace('}}', '}},')\n",
    "info = info[1:-2]\n",
    "info = '[' + info + ']'\n",
    "with open('ukdc_data.json', 'w') as outfile:\n",
    "    outfile.write(info)"
   ]
  },
  {
   "cell_type": "code",
   "execution_count": null,
   "metadata": {},
   "outputs": [],
   "source": [
    "# Now load and do stuff...\n",
    "with open('ukdc_data.json') as f:\n",
    "    data = json.load(f)"
   ]
  }
 ],
 "metadata": {
  "kernelspec": {
   "display_name": "Carbon Calculator",
   "language": "python",
   "name": "carbon_calculator"
  },
  "language_info": {
   "name": "python",
   "version": "3.12.3"
  }
 },
 "nbformat": 4,
 "nbformat_minor": 2
}
