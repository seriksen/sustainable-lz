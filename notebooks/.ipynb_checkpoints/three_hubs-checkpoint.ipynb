{
 "cells": [
  {
   "cell_type": "markdown",
   "id": "5a5ac9fd",
   "metadata": {},
   "source": [
    "# Collaborators Whereabouts\n",
    "Author: Sam Eriksen\n",
    "\n",
    "Description: Notebook to read in collaboration list from google sheets and plot"
   ]
  },
  {
   "cell_type": "code",
   "execution_count": 1,
   "id": "c82614144af7dc27",
   "metadata": {
    "ExecuteTime": {
     "end_time": "2024-09-09T23:26:32.992670Z",
     "start_time": "2024-09-09T23:26:32.987434Z"
    }
   },
   "outputs": [
    {
     "ename": "ModuleNotFoundError",
     "evalue": "No module named 'geopy'",
     "output_type": "error",
     "traceback": [
      "\u001b[0;31m---------------------------------------------------------------------------\u001b[0m",
      "\u001b[0;31mModuleNotFoundError\u001b[0m                       Traceback (most recent call last)",
      "Cell \u001b[0;32mIn[1], line 4\u001b[0m\n\u001b[1;32m      2\u001b[0m \u001b[38;5;28;01mimport\u001b[39;00m\u001b[38;5;250m \u001b[39m\u001b[38;5;21;01mpandas\u001b[39;00m\u001b[38;5;250m \u001b[39m\u001b[38;5;28;01mas\u001b[39;00m\u001b[38;5;250m \u001b[39m\u001b[38;5;21;01mpd\u001b[39;00m\n\u001b[1;32m      3\u001b[0m \u001b[38;5;66;03m#import tqdm\u001b[39;00m\n\u001b[0;32m----> 4\u001b[0m \u001b[38;5;28;01mfrom\u001b[39;00m\u001b[38;5;250m \u001b[39m\u001b[38;5;21;01mgeopy\u001b[39;00m\u001b[38;5;21;01m.\u001b[39;00m\u001b[38;5;21;01mgeocoders\u001b[39;00m\u001b[38;5;250m \u001b[39m\u001b[38;5;28;01mimport\u001b[39;00m Nominatim\n\u001b[1;32m      5\u001b[0m \u001b[38;5;28;01mfrom\u001b[39;00m\u001b[38;5;250m \u001b[39m\u001b[38;5;21;01mgeopy\u001b[39;00m\u001b[38;5;21;01m.\u001b[39;00m\u001b[38;5;21;01mextra\u001b[39;00m\u001b[38;5;21;01m.\u001b[39;00m\u001b[38;5;21;01mrate_limiter\u001b[39;00m\u001b[38;5;250m \u001b[39m\u001b[38;5;28;01mimport\u001b[39;00m RateLimiter\n\u001b[1;32m      6\u001b[0m \u001b[38;5;28;01mimport\u001b[39;00m\u001b[38;5;250m \u001b[39m\u001b[38;5;21;01mgeopy\u001b[39;00m\u001b[38;5;21;01m.\u001b[39;00m\u001b[38;5;21;01mdistance\u001b[39;00m\u001b[38;5;250m \u001b[39m\u001b[38;5;28;01mas\u001b[39;00m\u001b[38;5;250m \u001b[39m\u001b[38;5;21;01mdist\u001b[39;00m\n",
      "\u001b[0;31mModuleNotFoundError\u001b[0m: No module named 'geopy'"
     ]
    }
   ],
   "source": [
    "import numpy as np\n",
    "import pandas as pd\n",
    "#import tqdm\n",
    "from geopy.geocoders import Nominatim\n",
    "from geopy.extra.rate_limiter import RateLimiter\n",
    "import geopy.distance as dist\n",
    "import geopandas as gpd\n",
    "import matplotlib.pyplot as plt\n",
    "import matplotlib.colors as mcolors\n",
    "import matplotlib\n",
    "import io\n",
    "long_cut=2500\n",
    "interpolate_above=1500\n",
    "short_haul_factors=pd.read_csv(io.StringIO('''\n",
    "S,157.86\n",
    "PLF,0.796\n",
    "DC,95\n",
    "CF,0.26\n",
    "E_CW,1\n",
    "P_CW,1\n",
    "B_CW,1.5\n",
    "F_CW,1.5\n",
    "EF,3.16\n",
    "P,0.538\n",
    "M,3\n",
    "AF,0.00034\n",
    "A,11.68\n",
    "a,0.000007\n",
    "b,2.775\n",
    "c,1260.608\n",
    "\n",
    "'''), header=None)\n",
    "keys=list(short_haul_factors[0])\n",
    "vals=list(short_haul_factors[1])\n",
    "short_haul_factors={k:vals[i] for i,k in enumerate(keys)}\n",
    "long_haul_factors=pd.read_csv(io.StringIO('''\n",
    "S,302.58\n",
    "PLF,0.82\n",
    "DC,95\n",
    "CF,0.26\n",
    "E_CW,1\n",
    "P_CW,1.5\n",
    "B_CW,4\n",
    "F_CW,5\n",
    "EF,3.16\n",
    "P,0.538\n",
    "M,3\n",
    "AF,0.00034\n",
    "A,11.68\n",
    "a,0.00029\n",
    "b,3.475\n",
    "c, 3259.691\n",
    "\n",
    "'''), header=None)\n",
    "keys=list(long_haul_factors[0])\n",
    "vals=list(long_haul_factors[1])\n",
    "long_haul_factors={k:vals[i] for i,k in enumerate(keys)}\n",
    "def calculate_emission_for_factors(factors,distance):\n",
    "    #caculate kg of CO2\n",
    "    x=factors['DC']+distance\n",
    "    E=(factors['a']*x**2+factors['b']*x+factors['c'])/(factors['S']*factors['PLF'])\n",
    "    E*=(1-factors['CF'])*factors['E_CW']*(factors['EF']*factors['M']+factors['P'])\n",
    "    E+=factors['AF']*x+factors['A']\n",
    "    return E\n",
    "def calc_emissions_v2(distance):\n",
    "    #not yet calculating layovers\n",
    "    if distance>=long_cut:\n",
    "        return 2*(calculate_emission_for_factors(long_haul_factors,distance))/1e3\n",
    "    elif distance<=interpolate_above:\n",
    "        return 2*(calculate_emission_for_factors(short_haul_factors,distance))/1e3\n",
    "    else:\n",
    "        short_haul_co2=calculate_emission_for_factors(short_haul_factors,distance)\n",
    "        long_haul_co2=calculate_emission_for_factors(long_haul_factors,distance)\n",
    "        m=(long_haul_co2-short_haul_co2)/(long_cut-interpolate_above)\n",
    "        return 2*(m*(distance-interpolate_above)+short_haul_co2)/1e3"
   ]
  },
  {
   "cell_type": "markdown",
   "id": "4e4ccfde",
   "metadata": {},
   "source": [
    "Get author list information"
   ]
  },
  {
   "cell_type": "code",
   "execution_count": null,
   "id": "02cf1d71",
   "metadata": {},
   "outputs": [],
   "source": [
    "spreadsheet_id = \"1J-8ehKgEcpmssEZ_dGRIp5lRQCg6tDonYYG87Rv__4I\"\n",
    "sheet_id = \"951549455\"\n",
    "sheet_url = f\"https://docs.google.com/spreadsheets/d/{spreadsheet_id}/export?format=csv&gid={sheet_id}\"\n",
    "\n",
    "df = pd.read_csv(sheet_url)\n",
    "\n",
    "cut_down_df = df.loc[4:].dropna(subset=[\"Unnamed: 2\"])\n",
    "\n",
    "final_info = cut_down_df[[\"Unnamed: 47\", \"Unnamed: 43\", \"# considered (x-check)\", \"PRIMARY PAGE\", \"Unnamed: 3\"]]\n",
    "\n",
    "final_info.columns = [\"Title\", \"Initials\", \"LastName\", \"University\", \"isAuthor\"]"
   ]
  },
  {
   "cell_type": "markdown",
   "id": "01372e5c",
   "metadata": {},
   "source": [
    "Get university address information"
   ]
  },
  {
   "cell_type": "code",
   "execution_count": null,
   "id": "1e4d0324",
   "metadata": {},
   "outputs": [],
   "source": [
    "spreadsheet_id = \"1J-8ehKgEcpmssEZ_dGRIp5lRQCg6tDonYYG87Rv__4I\"\n",
    "sheet_id = \"1098381277\"\n",
    "sheet_url = f\"https://docs.google.com/spreadsheets/d/{spreadsheet_id}/export?format=csv&gid={sheet_id}\"\n",
    "\n",
    "df = pd.read_csv(sheet_url)\n",
    "\n",
    "institutions = df[[\"SECONDARY PAGE\", \"Unnamed: 7\"]]\n",
    "institutions.columns = [\"University\", \"Address\"]\n",
    "institutions = institutions.iloc[4:]\n",
    "institutions = institutions.dropna(subset=['Address'])\n",
    "institutions['Address'] = institutions['Address'].str.replace('GBR', 'UK')\n",
    "institutions['Universities_FullName'] = institutions['University'] + ', ' + institutions['Address']\n",
    "institutions['Short_Address'] = institutions['Address'].apply(lambda x: ', '.join(x.split(', ')[-2:]))\n",
    "institutions['Corrected_Name'] = institutions['University'].apply(lambda x: x.split(' (')[0])\n",
    "institutions['Start_Address'] = institutions['Address'].apply(lambda x: ', '.join(x.split(', ')[:2]))"
   ]
  },
  {
   "cell_type": "markdown",
   "id": "3914bfa1",
   "metadata": {},
   "source": [
    "Get Long and Lat"
   ]
  },
  {
   "cell_type": "code",
   "execution_count": null,
   "id": "edbff46e",
   "metadata": {},
   "outputs": [],
   "source": [
    "def get_latitude(location):\n",
    "    try:\n",
    "        return location.latitude\n",
    "    except AttributeError:\n",
    "        return None\n",
    "\n",
    "def get_longitude(location):\n",
    "    try:\n",
    "        return location.longitude\n",
    "    except AttributeError:\n",
    "        return None\n",
    "def correct_none(entry):\n",
    "    long = None\n",
    "    lat = None\n",
    "    print(entry['Short_Address'])\n",
    "    if 'Daejeon' in entry['Short_Address']:\n",
    "        lat = 36.375394\n",
    "        long = 127.384520\n",
    "    elif '57754-1700' in entry['Short_Address']:\n",
    "        lat = 44.345992\n",
    "        long = -103.755154\n",
    "    print(long)\n",
    "    print(lat)\n",
    "    return long, lat"
   ]
  },
  {
   "cell_type": "code",
   "execution_count": null,
   "id": "b1541d0c",
   "metadata": {},
   "outputs": [],
   "source": [
    "# Initialize the geocoder\n",
    "geolocator = Nominatim(user_agent=\"university_geocoder\")\n",
    "# To avoid hitting the service rate limits\n",
    "geocode = RateLimiter(geolocator.geocode, min_delay_seconds=1)"
   ]
  },
  {
   "cell_type": "code",
   "execution_count": null,
   "id": "165798fe",
   "metadata": {},
   "outputs": [],
   "source": [
    "institutions['location'] = institutions['University'].apply(geocode)\n",
    "institutions.loc[institutions['location'].isna(), 'location'] = institutions[institutions['location'].isna()]['Corrected_Name'].apply(geocode)\n",
    "institutions.loc[institutions['location'].isna(), 'location'] = institutions[institutions['location'].isna()]['Short_Address'].apply(geocode)\n",
    "institutions.loc[institutions['location'].isna(), 'location'] = institutions[institutions['location'].isna()]['Address'].apply(geocode)\n",
    "institutions.loc[institutions['location'].isna(), 'location'] = institutions[institutions['location'].isna()]['Start_Address'].apply(geocode)"
   ]
  },
  {
   "cell_type": "code",
   "execution_count": null,
   "id": "fd264761",
   "metadata": {},
   "outputs": [],
   "source": [
    "institutions['longitude'] = institutions['location'].apply(get_longitude)\n",
    "institutions['latitude'] = institutions['location'].apply(get_latitude)\n",
    "institutions[['longitude', 'latitude']] = institutions.apply(lambda row: correct_none(row) if pd.isna(row['latitude']) else (row['longitude'], row['latitude']), axis=1, result_type='expand')"
   ]
  },
  {
   "cell_type": "markdown",
   "id": "21113ed5",
   "metadata": {},
   "source": [
    "Plot on a map all universities involved"
   ]
  },
  {
   "cell_type": "code",
   "execution_count": null,
   "id": "9b1168c8",
   "metadata": {},
   "outputs": [],
   "source": [
    "world = gpd.read_file('../data/ne_10m_admin_0_countries.shp')\n",
    "fig, ax = plt.subplots(1, 1, figsize=(15, 10))\n",
    "\n",
    "world.boundary.plot(ax=ax, zorder=1) \n",
    "ax.scatter(institutions['longitude'],institutions['latitude'], marker='*', color='red', zorder=2)\n",
    "\n",
    "ax.set_title('All Universities involved')\n",
    "plt.show()"
   ]
  },
  {
   "cell_type": "code",
   "execution_count": null,
   "id": "cbcc49bf",
   "metadata": {},
   "outputs": [],
   "source": [
    "author_universities = final_info.loc[final_info['isAuthor'] == 'TRUE', 'University'].unique()\n",
    "author_university_locations = institutions[institutions['University'].isin(author_universities)]"
   ]
  },
  {
   "cell_type": "code",
   "execution_count": null,
   "id": "bd4a7a78",
   "metadata": {},
   "outputs": [],
   "source": [
    "world = gpd.read_file('ne_110m_admin_0_countries.shp')\n",
    "fig, ax = plt.subplots(1, 1, figsize=(15, 10))\n",
    "\n",
    "world.boundary.plot(ax=ax, zorder=1) \n",
    "ax.scatter(author_university_locations['longitude'],author_university_locations['latitude'], marker='*', color='red', zorder=2)\n",
    "\n",
    "ax.set_title('Only Universities with valid authors')\n",
    "plt.show()"
   ]
  },
  {
   "cell_type": "markdown",
   "id": "d787d775",
   "metadata": {},
   "source": [
    "Turn into density map"
   ]
  },
  {
   "cell_type": "code",
   "execution_count": null,
   "id": "0322afb2",
   "metadata": {},
   "outputs": [],
   "source": [
    "def get_country_or_state(location):\n",
    "    split_loc = location.split(', ')\n",
    "    if 'United States' in split_loc:\n",
    "        try:\n",
    "            a = int(split_loc[-2])\n",
    "            binning_region = split_loc[-3]\n",
    "        except:\n",
    "            binning_region = split_loc[-2]\n",
    "    else:\n",
    "        binning_region = split_loc[-1]\n",
    "        if 'Svizzera' in binning_region:\n",
    "            binning_region = 'Switzerland'\n",
    "    return binning_region"
   ]
  },
  {
   "cell_type": "code",
   "execution_count": null,
   "id": "7310cc61",
   "metadata": {},
   "outputs": [],
   "source": [
    "# Calculate number of authors at each university\n",
    "authors = final_info.loc[final_info['isAuthor'] == 'TRUE']\n",
    "author_counts = authors['University'].value_counts()\n",
    "author_university_locations[\"author_count\"] = institutions['University'].map(author_counts)\n",
    "\n",
    "# Create binning based on either country or state\n",
    "author_university_locations['Binning1'] = author_university_locations['location'].apply(lambda loc: get_country_or_state(loc.address) if loc else None)\n",
    "\n",
    "# now recount\n",
    "author_counts = authors['University'].value_counts()\n",
    "\n",
    "# Group by 'Binning1' and sum the 'author_count', also removes None - so Korea\n",
    "grouped_by_country_or_state = author_university_locations.groupby('Binning1').agg({\n",
    "    'author_count': 'sum',\n",
    "    'University': 'first', # To make the assumption that everyone flies from one airport in that BinningRegion\n",
    "    'longitude': 'first',\n",
    "    'latitude': 'first'\n",
    "}).reset_index()\n"
   ]
  },
  {
   "cell_type": "code",
   "execution_count": null,
   "id": "1475692a-1f02-42d0-8438-a5925c03b84f",
   "metadata": {
    "tags": []
   },
   "outputs": [],
   "source": [
    "row_index = author_university_locations.loc[author_university_locations['University'] == 'University of Maryland'].index[0]\n",
    "author_university_locations.loc[row_index,'latitude']=38.971500\n",
    "author_university_locations.loc[row_index,'longitude']=-76.940308\n",
    "# author_university_locations.loc[author_university_locations['University'] == 'University of Maryland']"
   ]
  },
  {
   "cell_type": "code",
   "execution_count": null,
   "id": "10f938c0-0dae-4830-b15a-8072df3fbd1b",
   "metadata": {
    "scrolled": true,
    "tags": []
   },
   "outputs": [],
   "source": [
    "\n",
    "def cross_distances(data):\n",
    "    cumulative_distance=[]\n",
    "    for index,institute in data.iterrows():\n",
    "        total_distance=0\n",
    "        for other_index,other_institute in data.iterrows():\n",
    "            if index==other_index:\n",
    "                continue\n",
    "            total_distance+=other_institute['author_count']*calc_emissions_v2(dist.distance(\n",
    "                                         (institute['latitude'],institute['longitude']),\n",
    "                                         (other_institute['latitude'],other_institute['longitude'])).km)\n",
    "\n",
    "        cumulative_distance.append(total_distance)\n",
    "\n",
    "    return data.assign(cumulative_distance=cumulative_distance)\n",
    "def plot_sites(author_dists):\n",
    "    longs=np.array(author_dists.sort_values(by=['cumulative_distance'])['longitude'])\n",
    "    lats=np.array(author_dists.sort_values(by=['cumulative_distance'])['latitude'])\n",
    "\n",
    "\n",
    "    world = gpd.read_file('ne_110m_admin_0_countries.shp')\n",
    "    fig, ax = plt.subplots(1, 1, figsize=(15, 10))\n",
    "    carbon_map = matplotlib.colormaps['summer']\n",
    "    world.boundary.plot(ax=ax, zorder=1) \n",
    "    max_marker=150\n",
    "    min_marker=50\n",
    "\n",
    "    for i,(long,lat) in enumerate(np.transpose([longs,lats])):\n",
    "        color=carbon_map(i/len(longs))\n",
    "        ax.scatter(long,lat, marker='*', color=color,s=100)\n",
    "\n",
    "    cmap = carbon_map\n",
    "    min_dist=max(author_dists['cumulative_distance'])#*100/341 #*2*150/1e6*100\n",
    "    max_dist=min(author_dists['cumulative_distance'])#*100/341 #*2*150/1e6*100\n",
    "    norm = matplotlib.colors.Normalize(vmin=min_dist, vmax=max_dist)\n",
    "\n",
    "    clb=plt.colorbar(matplotlib.cm.ScalarMappable(cmap=carbon_map,norm=norm),ax=plt.gca(),shrink=0.4,\n",
    "                 label='tCO2e of flights',ticks=np.linspace(min_dist,max_dist,5,endpoint=True),\n",
    "                format='%.1f')\n",
    "    clb.set_label('tCO2e for every Author',fontsize=18)\n",
    "    plt.xlim([-140,155])\n",
    "    plt.ylim([-40,60])\n",
    "    plt.xlabel(\"longitude ($^\\circ$)\",fontsize=18)\n",
    "    plt.ylabel(\"latitude ($^\\circ$)\",fontsize=18)\n",
    "    clb.ax.tick_params(labelsize='large')"
   ]
  },
  {
   "cell_type": "code",
   "execution_count": null,
   "id": "4de0a848-2f81-4e35-a5fb-adecece5c2f6",
   "metadata": {
    "tags": []
   },
   "outputs": [],
   "source": [
    "\n",
    "cut=author_university_locations['longitude']<100\n",
    "author_dists=cross_distances(author_university_locations[cut])\n",
    "plot_sites(author_dists)\n",
    "print(author_dists.sort_values(by=['cumulative_distance'])[:3])\n",
    "print(author_dists.sort_values(by=['cumulative_distance'])[-3:])"
   ]
  },
  {
   "cell_type": "code",
   "execution_count": null,
   "id": "3a86b2b4-83fe-48f6-a408-604f203b98d2",
   "metadata": {
    "tags": []
   },
   "outputs": [],
   "source": [
    "print(\"West Coast\")\n",
    "west_coast_cut=(author_university_locations['longitude']<-110)#|(author_university_locations['longitude']>110)\n",
    "west_author_dists=cross_distances(author_university_locations[west_coast_cut])\n",
    "\n",
    "print(west_author_dists.sort_values(by=['cumulative_distance'])[:3])\n",
    "\n",
    "\n",
    "\n",
    "east_coast_cut=(author_university_locations['longitude']>-100)&(author_university_locations['longitude']<-25)\n",
    "east_author_dists=cross_distances(author_university_locations[east_coast_cut])\n",
    "\n",
    "print(\"East Coast\")\n",
    "print(east_author_dists.sort_values(by=['cumulative_distance'])[:3])\n",
    "\n",
    "\n",
    "europe=(author_university_locations['longitude']>-25)&(author_university_locations['longitude']<110)\n",
    "europe_author_dists=cross_distances(author_university_locations[europe])\n",
    "\n",
    "print(\"Europe\")\n",
    "print(europe_author_dists.sort_values(by=['cumulative_distance'])[:3])\n",
    "\n",
    "\n",
    "\n",
    "\n",
    "\n",
    "world = gpd.read_file('ne_110m_admin_0_countries.shp')\n",
    "fig, ax = plt.subplots(1, 1, figsize=(15, 10))\n",
    "carbon_map = matplotlib.colormaps['summer']\n",
    "world.boundary.plot(ax=ax, zorder=1) \n",
    "\n",
    "markers=['<','>','o']\n",
    "labels=['West','East','Eur']\n",
    "for j,author_dists in enumerate([west_author_dists,east_author_dists,europe_author_dists]):\n",
    "    longs=np.array(author_dists.sort_values(by=['cumulative_distance'])['longitude'])\n",
    "    lats=np.array(author_dists.sort_values(by=['cumulative_distance'])['latitude'])\n",
    "    for i,(long,lat) in enumerate(np.transpose([longs,lats])):\n",
    "        color=carbon_map(i/len(longs))\n",
    "        ax.scatter(long,lat, marker=markers[j], color=color,s=50)\n",
    "\n",
    "    cmap = carbon_map\n",
    "    min_dist=max(author_dists['cumulative_distance'])\n",
    "    max_dist=min(author_dists['cumulative_distance'])\n",
    "    norm = matplotlib.colors.Normalize(vmin=min_dist, vmax=max_dist)\n",
    "\n",
    "    clb=plt.colorbar(matplotlib.cm.ScalarMappable(cmap=carbon_map,norm=norm),ax=plt.gca(),shrink=0.4,\n",
    "                 label='tCO2e of flights',ticks=np.linspace(min_dist,max_dist,5,endpoint=True),\n",
    "                format='%.1f')\n",
    "\n",
    "    clb.set_label(f'{labels[j]}',fontsize=18)\n",
    "    if j==2:\n",
    "        clb.set_label(f'{labels[j]} tCO2efor 100 Authors',fontsize=18)\n",
    "plt.xlim([-140,155])\n",
    "plt.ylim([-40,60])\n",
    "plt.xlabel(\"longitude ($^\\circ$)\",fontsize=18)\n",
    "plt.ylabel(\"latitude ($^\\circ$)\",fontsize=18)\n",
    "clb.ax.tick_params(labelsize='large')"
   ]
  },
  {
   "cell_type": "code",
   "execution_count": null,
   "id": "b4e1de07-7efd-474e-bc70-92d96b7161d9",
   "metadata": {
    "tags": []
   },
   "outputs": [],
   "source": [
    "west_coast_cut=(author_university_locations['longitude']<-110)#|(author_university_locations['longitude']>110)\n",
    "west_author_dists=cross_distances(author_university_locations[west_coast_cut])\n",
    "\n",
    "print(west_author_dists.sort_values(by=['cumulative_distance'])[:3])"
   ]
  },
  {
   "cell_type": "code",
   "execution_count": null,
   "id": "7099bfc2-b77a-4130-8f51-459394a09dfc",
   "metadata": {
    "tags": []
   },
   "outputs": [],
   "source": [
    "import matplotlib\n",
    "longs=np.array(author_dists.sort_values(by=['author_count'])['longitude'])\n",
    "lats=np.array(author_dists.sort_values(by=['author_count'])['latitude'])\n",
    "author_count=np.array(author_dists['author_count'])\n",
    "\n",
    "world = gpd.read_file('ne_110m_admin_0_countries.shp')\n",
    "fig, ax = plt.subplots(1, 1, figsize=(15, 10))\n",
    "carbon_map = matplotlib.colormaps['summer']\n",
    "world.boundary.plot(ax=ax, zorder=1) \n",
    "max_marker=150\n",
    "min_marker=50\n",
    "\n",
    "for i,(long,lat) in enumerate(np.transpose([longs,lats])):\n",
    "    color=carbon_map(i/len(longs))\n",
    "    ax.scatter(long,lat, marker='*', color=color,s=100)\n",
    "    \n",
    "cmap = carbon_map\n",
    "min_dist=max(author_count)\n",
    "max_dist=min(author_count)\n",
    "norm = matplotlib.colors.Normalize(vmin=min_dist, vmax=max_dist)\n",
    "\n",
    "clb=plt.colorbar(matplotlib.cm.ScalarMappable(cmap=carbon_map,norm=norm),ax=plt.gca(),shrink=0.4,\n",
    "             label='tCO2e of flights',ticks=np.linspace(min_dist,max_dist,5,endpoint=True),\n",
    "            format='%.1f')\n",
    "clb.set_label('Authors',fontsize=18)\n",
    "plt.xlim([-140,155])\n",
    "plt.ylim([-40,60])\n",
    "plt.xlabel(\"longitude ($^\\circ$)\",fontsize=18)\n",
    "plt.ylabel(\"latitude ($^\\circ$)\",fontsize=18)\n",
    "clb.ax.tick_params(labelsize='large')\n"
   ]
  },
  {
   "cell_type": "code",
   "execution_count": null,
   "id": "0608d016-1650-42d9-978b-2f91028b5075",
   "metadata": {
    "tags": []
   },
   "outputs": [],
   "source": [
    "markersize"
   ]
  },
  {
   "cell_type": "code",
   "execution_count": null,
   "id": "f55f0e47",
   "metadata": {},
   "outputs": [],
   "source": [
    "# Load your GeoDataFrames\n",
    "world = gpd.read_file('ne_110m_admin_0_countries.shp')\n",
    "us_states = gpd.read_file('tl_2023_us_state.shp')\n",
    "\n",
    "# Add country data\n",
    "all_countries = world[['SOVEREIGNT', 'geometry']]\n",
    "all_countries = all_countries.merge(grouped_by_country_or_state, how='left', left_on='SOVEREIGNT', right_on='Binning1')\n",
    "all_countries['author_count'] = all_countries['author_count'].fillna(0)\n",
    "\n",
    "# us states\n",
    "states = us_states[['NAME', 'geometry']]\n",
    "states = states.merge(grouped_by_country_or_state, how='left', left_on='NAME', right_on='Binning1')\n",
    "\n",
    "# Define a colormap where the lowest value (0) is white and the rest are colored\n",
    "cmap = plt.get_cmap('viridis')\n",
    "cmap = mcolors.ListedColormap(['white'] + [cmap(i) for i in range(cmap.N)])\n",
    "\n",
    "# Normalize data to ensure non-zero values pop more\n",
    "norm = mcolors.Normalize(vmin=0, vmax=states['author_count'].max())\n",
    "\n",
    "fig, ax = plt.subplots(1, 1, figsize=(30, 20))\n",
    "world.boundary.plot(ax=ax, color='black')\n",
    "us_states.boundary.plot(ax=ax, color='black')\n",
    "\n",
    "# Plot the world map with the colormap\n",
    "all_countries.plot(column='author_count', cmap=cmap, norm=norm, linewidth=0.8, ax=ax, edgecolor='0.8', legend=False)\n",
    "states.plot(column='author_count', cmap=cmap, norm=norm, linewidth=0.8, ax=ax, edgecolor='0.8', legend=False)\n",
    "\n",
    "# Add a legend with a distinct color map\n",
    "sm = plt.cm.ScalarMappable(cmap=cmap, norm=norm)\n",
    "sm.set_array([])\n",
    "cbar = fig.colorbar(sm, ax=ax, orientation='horizontal')\n",
    "cbar.set_label('Author Density', fontsize=20)\n",
    "\n",
    "\n",
    "plt.show()"
   ]
  },
  {
   "cell_type": "markdown",
   "id": "c3d14622",
   "metadata": {},
   "source": [
    "Find the nearest three airport"
   ]
  },
  {
   "cell_type": "code",
   "execution_count": null,
   "id": "7d60be30",
   "metadata": {},
   "outputs": [],
   "source": [
    "import airportsdata\n",
    "from geopy.distance import great_circle\n",
    "\n",
    "airports = airportsdata.load('IATA')\n",
    "airports_df = pd.DataFrame.from_dict(airports, orient='index')\n",
    "\n",
    "def find_nearest_airports(lat, lon, top_n=3): # assume one of the top 3 is a 'proper airport'\n",
    "    # Calculate distances and add them as a new column\n",
    "    airports_df['distance'] = airports_df.apply(\n",
    "        lambda row: great_circle((lat, lon), (row['lat'], row['lon'])).km,\n",
    "        axis=1\n",
    "    )\n",
    "    \n",
    "    # Sort the DataFrame by distance\n",
    "    sorted_airports_df = airports_df.sort_values(by='distance')\n",
    "    \n",
    "    # Select the top N nearest airports\n",
    "    nearest_airports = sorted_airports_df.head(top_n)\n",
    "    \n",
    "    return nearest_airports[['iata', 'distance']].values.tolist()\n",
    "\n",
    "def get_nearest_airports(row):\n",
    "    return find_nearest_airports(row['latitude'], row['longitude'])\n",
    "\n",
    "author_aiports_df = grouped_by_country_or_state\n",
    "author_aiports_df['Airports'] = author_aiports_df.apply(get_nearest_airports, axis=1)"
   ]
  },
  {
   "cell_type": "code",
   "execution_count": null,
   "id": "887c3525",
   "metadata": {},
   "outputs": [],
   "source": [
    "author_aiports_df"
   ]
  },
  {
   "cell_type": "code",
   "execution_count": null,
   "id": "c4c3bab2",
   "metadata": {
    "tags": []
   },
   "outputs": [],
   "source": [
    "import requests\n",
    "\n",
    "def check_direct_flights(airport_code1, airport_code2, api_key):\n",
    "    url = f'http://api.aviationstack.com/v1/flights?access_key={api_key}&dep_iata={airport_code1}&arr_iata={airport_code2}'\n",
    "    response = requests.get(url)\n",
    "    data = response.json()\n",
    "    # Check if any flights are found\n",
    "    if 'data' in data and len(data['data']) > 0:\n",
    "        return True\n",
    "    return False\n",
    "\n",
    "api_key = 'API-KEY'\n",
    "airport_code1 = 'LHR'\n",
    "airport_code2 = 'BOS'\n",
    "\n",
    "has_direct_flights = check_direct_flights(airport_code1, airport_code2, api_key)\n",
    "print(f\"Direct flights from {airport_code1} to {airport_code2}: {'Yes' if has_direct_flights else 'No'}\")"
   ]
  }
 ],
 "metadata": {
  "kernelspec": {
   "display_name": "flamedisx",
   "language": "python",
   "name": "flamedisx"
  },
  "language_info": {
   "codemirror_mode": {
    "name": "ipython",
    "version": 3
   },
   "file_extension": ".py",
   "mimetype": "text/x-python",
   "name": "python",
   "nbconvert_exporter": "python",
   "pygments_lexer": "ipython3",
   "version": "3.11.11"
  }
 },
 "nbformat": 4,
 "nbformat_minor": 5
}
